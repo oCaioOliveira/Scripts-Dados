{
 "cells": [
  {
   "cell_type": "code",
   "execution_count": 1,
   "id": "b531406c",
   "metadata": {},
   "outputs": [],
   "source": [
    "import pandas as pd\n",
    "import os\n",
    "import json\n",
    "import re\n",
    "\n",
    "from bs4 import BeautifulSoup\n",
    "from unidecode import unidecode"
   ]
  },
  {
   "cell_type": "code",
   "execution_count": 2,
   "id": "06f3504c",
   "metadata": {},
   "outputs": [],
   "source": [
    "# Pasta onde os arquivos HTML estão armazenados\n",
    "html_folder = './avisos-documentos'"
   ]
  },
  {
   "cell_type": "code",
   "execution_count": 3,
   "id": "7a6110d8",
   "metadata": {},
   "outputs": [],
   "source": [
    "# Cria uma lista vazia para armazenar os dados de texto\n",
    "data = {'ID': [], 'rotulo': [], 'texto': [], 'nome_arquivo': []}"
   ]
  },
  {
   "cell_type": "code",
   "execution_count": 4,
   "id": "055b4014",
   "metadata": {},
   "outputs": [],
   "source": [
    "# Lista para salvar arquivos que falharam na conversao\n",
    "files_error = []"
   ]
  },
  {
   "cell_type": "code",
   "execution_count": 5,
   "id": "91cfa1c5",
   "metadata": {},
   "outputs": [],
   "source": [
    "# Itera sobre os arquivos HTML na pasta especificada\n",
    "for filename in os.listdir(html_folder):\n",
    "    if filename.endswith('.html'):\n",
    "        try:\n",
    "            # Abre o arquivo HTML e cria um objeto BeautifulSoup\n",
    "            with open(os.path.join(html_folder, filename)) as file:\n",
    "                soup = BeautifulSoup(file, 'html.parser')\n",
    "\n",
    "            # Extrai o texto do arquivo HTML\n",
    "            text = soup.get_text()\n",
    "\n",
    "            # Retirar caracteres especiais\n",
    "            filename = filename.replace(\"ç\", \"\")\n",
    "            filename = filename.replace(\"ã\", \"\")\n",
    "            \n",
    "            # Adiciona os dados ao dicionário\n",
    "            data['texto'].append(text)\n",
    "            data['nome_arquivo'].append(filename)\n",
    "            data['rotulo'].append(\"Sem rotulo\")\n",
    "            data['ID'].append('temp')\n",
    "        except Exception as e:\n",
    "            files_error.append(filename)"
   ]
  },
  {
   "cell_type": "code",
   "execution_count": 6,
   "id": "feb7e4a3",
   "metadata": {},
   "outputs": [],
   "source": [
    "df = pd.DataFrame(data)"
   ]
  },
  {
   "cell_type": "code",
   "execution_count": 7,
   "id": "4e6183f8",
   "metadata": {},
   "outputs": [],
   "source": [
    "# Retirar '\\n'\n",
    "df['texto'].replace('\\n', '', regex=True, inplace=True)"
   ]
  },
  {
   "cell_type": "code",
   "execution_count": 8,
   "id": "08ba0771",
   "metadata": {},
   "outputs": [
    {
     "data": {
      "text/html": [
       "<div>\n",
       "<style scoped>\n",
       "    .dataframe tbody tr th:only-of-type {\n",
       "        vertical-align: middle;\n",
       "    }\n",
       "\n",
       "    .dataframe tbody tr th {\n",
       "        vertical-align: top;\n",
       "    }\n",
       "\n",
       "    .dataframe thead th {\n",
       "        text-align: right;\n",
       "    }\n",
       "</style>\n",
       "<table border=\"1\" class=\"dataframe\">\n",
       "  <thead>\n",
       "    <tr style=\"text-align: right;\">\n",
       "      <th></th>\n",
       "      <th>ID</th>\n",
       "      <th>rotulo</th>\n",
       "      <th>texto</th>\n",
       "      <th>nome_arquivo</th>\n",
       "    </tr>\n",
       "  </thead>\n",
       "  <tbody>\n",
       "    <tr>\n",
       "      <th>0</th>\n",
       "      <td>temp</td>\n",
       "      <td>Sem rotulo</td>\n",
       "      <td>Poder Judiciário da UniãoTRIBUNAL DE JUSTIÇA D...</td>\n",
       "      <td>00174550920008070001_20181126132136_25834400-C...</td>\n",
       "    </tr>\n",
       "    <tr>\n",
       "      <th>1</th>\n",
       "      <td>temp</td>\n",
       "      <td>Sem rotulo</td>\n",
       "      <td>Poder Judiciário da UniãoTRIBUNAL DE JUSTIÇA D...</td>\n",
       "      <td>00174550920008070001_20190814152826_41551083-D...</td>\n",
       "    </tr>\n",
       "    <tr>\n",
       "      <th>2</th>\n",
       "      <td>temp</td>\n",
       "      <td>Sem rotulo</td>\n",
       "      <td>Poder Judiciário da UniãoTRIBUNAL DE JUSTIÇA D...</td>\n",
       "      <td>00174550920008070001_20190930131835_45409481-S...</td>\n",
       "    </tr>\n",
       "    <tr>\n",
       "      <th>3</th>\n",
       "      <td>temp</td>\n",
       "      <td>Sem rotulo</td>\n",
       "      <td>Poder Judiciário da UniãoTRIBUNAL DE JUSTIÇA D...</td>\n",
       "      <td>00174550920008070001_20200608132908_64948369-C...</td>\n",
       "    </tr>\n",
       "    <tr>\n",
       "      <th>4</th>\n",
       "      <td>temp</td>\n",
       "      <td>Sem rotulo</td>\n",
       "      <td>Poder Judiciário da UniãoTRIBUNAL DE JUSTIÇA D...</td>\n",
       "      <td>00259102620018070001_20201014133202_74232911-C...</td>\n",
       "    </tr>\n",
       "  </tbody>\n",
       "</table>\n",
       "</div>"
      ],
      "text/plain": [
       "     ID      rotulo                                              texto  \\\n",
       "0  temp  Sem rotulo  Poder Judiciário da UniãoTRIBUNAL DE JUSTIÇA D...   \n",
       "1  temp  Sem rotulo  Poder Judiciário da UniãoTRIBUNAL DE JUSTIÇA D...   \n",
       "2  temp  Sem rotulo  Poder Judiciário da UniãoTRIBUNAL DE JUSTIÇA D...   \n",
       "3  temp  Sem rotulo  Poder Judiciário da UniãoTRIBUNAL DE JUSTIÇA D...   \n",
       "4  temp  Sem rotulo  Poder Judiciário da UniãoTRIBUNAL DE JUSTIÇA D...   \n",
       "\n",
       "                                        nome_arquivo  \n",
       "0  00174550920008070001_20181126132136_25834400-C...  \n",
       "1  00174550920008070001_20190814152826_41551083-D...  \n",
       "2  00174550920008070001_20190930131835_45409481-S...  \n",
       "3  00174550920008070001_20200608132908_64948369-C...  \n",
       "4  00259102620018070001_20201014133202_74232911-C...  "
      ]
     },
     "execution_count": 8,
     "metadata": {},
     "output_type": "execute_result"
    }
   ],
   "source": [
    "df.head()"
   ]
  },
  {
   "cell_type": "code",
   "execution_count": 9,
   "id": "2933d969",
   "metadata": {},
   "outputs": [
    {
     "data": {
      "text/plain": [
       "'00174550920008070001_20181126132136_25834400-Certido.html'"
      ]
     },
     "execution_count": 9,
     "metadata": {},
     "output_type": "execute_result"
    }
   ],
   "source": [
    "df['nome_arquivo'][0]"
   ]
  },
  {
   "cell_type": "code",
   "execution_count": 10,
   "id": "a12952f7",
   "metadata": {},
   "outputs": [],
   "source": [
    "# Caminho para o arquivo JSON\n",
    "json_file = './labelbox_annotations.json'"
   ]
  },
  {
   "cell_type": "code",
   "execution_count": 11,
   "id": "6a7f1b01",
   "metadata": {},
   "outputs": [],
   "source": [
    "# Carrega o arquivo JSON em um objeto Python\n",
    "with open(json_file, 'r') as f:\n",
    "    data = json.loads(f.read())"
   ]
  },
  {
   "cell_type": "code",
   "execution_count": 12,
   "id": "c60b9c83",
   "metadata": {},
   "outputs": [],
   "source": [
    "# Itera sobre os objetos na lista\n",
    "for obj in data:\n",
    "    # Extrai as informações desejadas\n",
    "    file_name = obj['External ID']\n",
    "    id = obj['ID']\n",
    "\n",
    "    # Retirar caracteres especiais\n",
    "    file_name = file_name.replace(\"Ã§\", \"\")\n",
    "    file_name = file_name.replace(\"Ã£\", \"\")\n",
    "\n",
    "    df.loc[df['nome_arquivo'] == file_name, 'ID'] = id\n",
    "        \n",
    "    try:\n",
    "        label = obj['Label']['classifications'][0]['answer']['title']\n",
    "        df.loc[df['nome_arquivo'] == file_name, 'rotulo'] = label\n",
    "    except Exception as e:\n",
    "        pass"
   ]
  },
  {
   "cell_type": "code",
   "execution_count": 13,
   "id": "dc0b6d3d",
   "metadata": {},
   "outputs": [],
   "source": [
    "df = df.drop('nome_arquivo', axis=1)"
   ]
  },
  {
   "cell_type": "code",
   "execution_count": 14,
   "id": "f02b1adb",
   "metadata": {},
   "outputs": [
    {
     "data": {
      "text/plain": [
       "3967"
      ]
     },
     "execution_count": 14,
     "metadata": {},
     "output_type": "execute_result"
    }
   ],
   "source": [
    "# Quantidade de linhas com o rotulo diferente de -1\n",
    "len(df.loc[df['rotulo'] != -1])"
   ]
  },
  {
   "cell_type": "code",
   "execution_count": 19,
   "id": "9f0b6028",
   "metadata": {
    "scrolled": true
   },
   "outputs": [
    {
     "data": {
      "text/html": [
       "<div>\n",
       "<style scoped>\n",
       "    .dataframe tbody tr th:only-of-type {\n",
       "        vertical-align: middle;\n",
       "    }\n",
       "\n",
       "    .dataframe tbody tr th {\n",
       "        vertical-align: top;\n",
       "    }\n",
       "\n",
       "    .dataframe thead th {\n",
       "        text-align: right;\n",
       "    }\n",
       "</style>\n",
       "<table border=\"1\" class=\"dataframe\">\n",
       "  <thead>\n",
       "    <tr style=\"text-align: right;\">\n",
       "      <th></th>\n",
       "      <th>ID</th>\n",
       "      <th>rotulo</th>\n",
       "      <th>texto</th>\n",
       "    </tr>\n",
       "  </thead>\n",
       "  <tbody>\n",
       "    <tr>\n",
       "      <th>0</th>\n",
       "      <td>clbdwul7j07wv070k436t69qr</td>\n",
       "      <td>Sem rotulo</td>\n",
       "      <td>Poder Judiciário da UniãoTRIBUNAL DE JUSTIÇA D...</td>\n",
       "    </tr>\n",
       "    <tr>\n",
       "      <th>1</th>\n",
       "      <td>clbdwumaj07x0070kco8701gu</td>\n",
       "      <td>Sem rotulo</td>\n",
       "      <td>Poder Judiciário da UniãoTRIBUNAL DE JUSTIÇA D...</td>\n",
       "    </tr>\n",
       "    <tr>\n",
       "      <th>2</th>\n",
       "      <td>clbc8u00n441c071v5alx2zm7</td>\n",
       "      <td>Recurso/Dispensa</td>\n",
       "      <td>Poder Judiciário da UniãoTRIBUNAL DE JUSTIÇA D...</td>\n",
       "    </tr>\n",
       "    <tr>\n",
       "      <th>3</th>\n",
       "      <td>clbc8u0pn1u87082igpm586rs</td>\n",
       "      <td>Sem rotulo</td>\n",
       "      <td>Poder Judiciário da UniãoTRIBUNAL DE JUSTIÇA D...</td>\n",
       "    </tr>\n",
       "    <tr>\n",
       "      <th>4</th>\n",
       "      <td>clbc8y06s2rd507264nu265mf</td>\n",
       "      <td>Sem rotulo</td>\n",
       "      <td>Poder Judiciário da UniãoTRIBUNAL DE JUSTIÇA D...</td>\n",
       "    </tr>\n",
       "    <tr>\n",
       "      <th>...</th>\n",
       "      <td>...</td>\n",
       "      <td>...</td>\n",
       "      <td>...</td>\n",
       "    </tr>\n",
       "    <tr>\n",
       "      <th>3962</th>\n",
       "      <td>clbb676250otw073w0n64e1pe</td>\n",
       "      <td>Sem rotulo</td>\n",
       "      <td>Poder Judiciário da UniãoTRIBUNAL DE JUSTIÇA D...</td>\n",
       "    </tr>\n",
       "    <tr>\n",
       "      <th>3963</th>\n",
       "      <td>clbb67p0r0p6307581sla0prm</td>\n",
       "      <td>InfEspol_Em</td>\n",
       "      <td>Poder Judiciário da UniãoTRIBUNAL DE JUSTIÇA D...</td>\n",
       "    </tr>\n",
       "    <tr>\n",
       "      <th>3964</th>\n",
       "      <td>clbb67vhl0p3y071p4rblbz2i</td>\n",
       "      <td>Recurso/Dispensa</td>\n",
       "      <td>Poder Judiciário da UniãoTRIBUNAL DE JUSTIÇA D...</td>\n",
       "    </tr>\n",
       "    <tr>\n",
       "      <th>3965</th>\n",
       "      <td>clbb684j30ow6070z9z33856c</td>\n",
       "      <td>Sem rotulo</td>\n",
       "      <td>Poder Judiciário da UniãoTRIBUNAL DE JUSTIÇA D...</td>\n",
       "    </tr>\n",
       "    <tr>\n",
       "      <th>3966</th>\n",
       "      <td>clbb68bus0p7n071p8138gr4w</td>\n",
       "      <td>Sem rotulo</td>\n",
       "      <td>Poder Judiciário da UniãoTRIBUNAL DE JUSTIÇA D...</td>\n",
       "    </tr>\n",
       "  </tbody>\n",
       "</table>\n",
       "<p>3967 rows × 3 columns</p>\n",
       "</div>"
      ],
      "text/plain": [
       "                             ID            rotulo  \\\n",
       "0     clbdwul7j07wv070k436t69qr        Sem rotulo   \n",
       "1     clbdwumaj07x0070kco8701gu        Sem rotulo   \n",
       "2     clbc8u00n441c071v5alx2zm7  Recurso/Dispensa   \n",
       "3     clbc8u0pn1u87082igpm586rs        Sem rotulo   \n",
       "4     clbc8y06s2rd507264nu265mf        Sem rotulo   \n",
       "...                         ...               ...   \n",
       "3962  clbb676250otw073w0n64e1pe        Sem rotulo   \n",
       "3963  clbb67p0r0p6307581sla0prm       InfEspol_Em   \n",
       "3964  clbb67vhl0p3y071p4rblbz2i  Recurso/Dispensa   \n",
       "3965  clbb684j30ow6070z9z33856c        Sem rotulo   \n",
       "3966  clbb68bus0p7n071p8138gr4w        Sem rotulo   \n",
       "\n",
       "                                                  texto  \n",
       "0     Poder Judiciário da UniãoTRIBUNAL DE JUSTIÇA D...  \n",
       "1     Poder Judiciário da UniãoTRIBUNAL DE JUSTIÇA D...  \n",
       "2     Poder Judiciário da UniãoTRIBUNAL DE JUSTIÇA D...  \n",
       "3     Poder Judiciário da UniãoTRIBUNAL DE JUSTIÇA D...  \n",
       "4     Poder Judiciário da UniãoTRIBUNAL DE JUSTIÇA D...  \n",
       "...                                                 ...  \n",
       "3962  Poder Judiciário da UniãoTRIBUNAL DE JUSTIÇA D...  \n",
       "3963  Poder Judiciário da UniãoTRIBUNAL DE JUSTIÇA D...  \n",
       "3964  Poder Judiciário da UniãoTRIBUNAL DE JUSTIÇA D...  \n",
       "3965  Poder Judiciário da UniãoTRIBUNAL DE JUSTIÇA D...  \n",
       "3966  Poder Judiciário da UniãoTRIBUNAL DE JUSTIÇA D...  \n",
       "\n",
       "[3967 rows x 3 columns]"
      ]
     },
     "execution_count": 19,
     "metadata": {},
     "output_type": "execute_result"
    }
   ],
   "source": [
    "df.head(10000)"
   ]
  },
  {
   "cell_type": "code",
   "execution_count": 17,
   "id": "8b4dd881",
   "metadata": {},
   "outputs": [],
   "source": [
    "# Salva o DataFrame em um arquivo parquet\n",
    "df.to_parquet('text_data.parquet', index=False)"
   ]
  },
  {
   "cell_type": "code",
   "execution_count": null,
   "id": "b72a7a4e",
   "metadata": {},
   "outputs": [],
   "source": []
  }
 ],
 "metadata": {
  "kernelspec": {
   "display_name": "Python 3 (ipykernel)",
   "language": "python",
   "name": "python3"
  },
  "language_info": {
   "codemirror_mode": {
    "name": "ipython",
    "version": 3
   },
   "file_extension": ".py",
   "mimetype": "text/x-python",
   "name": "python",
   "nbconvert_exporter": "python",
   "pygments_lexer": "ipython3",
   "version": "3.9.12"
  }
 },
 "nbformat": 4,
 "nbformat_minor": 5
}
